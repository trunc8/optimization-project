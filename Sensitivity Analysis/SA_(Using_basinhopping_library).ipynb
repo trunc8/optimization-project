{
  "nbformat": 4,
  "nbformat_minor": 0,
  "metadata": {
    "colab": {
      "name": "SA (Using basinhopping library).ipynb",
      "provenance": []
    },
    "kernelspec": {
      "name": "python3",
      "display_name": "Python 3"
    },
    "language_info": {
      "name": "python"
    }
  },
  "cells": [
    {
      "cell_type": "code",
      "metadata": {
        "colab": {
          "base_uri": "https://localhost:8080/"
        },
        "id": "r6airhDSvfUk",
        "outputId": "a080d9b8-dce7-41a8-b199-c1b62d1c1dd4"
      },
      "source": [
        "# basin hopping global optimization for the himmelblau multimodal objective function\n",
        "from scipy.optimize import basinhopping\n",
        "from numpy.random import rand\n",
        " \n",
        "# objective function\n",
        "def objective(v):\n",
        "\tx, y = v\n",
        "\treturn (x**2 + y - 11)**2 + (x + y**2 -7)**2\n",
        " \n",
        "# define range for input\n",
        "r_min, r_max = -5.0, 5.0\n",
        "# define the starting point as a random sample from the domain\n",
        "pt = r_min + rand(2) * (r_max - r_min)\n",
        "# perform the basin hopping search\n",
        "result = basinhopping(objective, pt, stepsize=0.5, niter=200)\n",
        "# summarize the result\n",
        "print('Total Evaluations: %d' % result['nfev'])\n",
        "# evaluate solution\n",
        "solution = result['x']\n",
        "evaluation = objective(solution)\n",
        "print('Solution: f(%s) = %.5f' % (solution, evaluation))"
      ],
      "execution_count": 5,
      "outputs": [
        {
          "output_type": "stream",
          "text": [
            "Total Evaluations: 7716\n",
            "Solution: f([3. 2.]) = 0.00000\n"
          ],
          "name": "stdout"
        }
      ]
    }
  ]
}